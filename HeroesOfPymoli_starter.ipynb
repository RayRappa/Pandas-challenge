{
 "cells": [
  {
   "cell_type": "code",
   "execution_count": 1,
   "metadata": {
    "tags": []
   },
   "outputs": [],
   "source": [
    "# Dependencies and Setup\n",
    "import numpy as np\n",
    "import pandas as pd\n",
    "import csv\n",
    "import os"
   ]
  },
  {
   "cell_type": "code",
   "execution_count": 2,
   "metadata": {},
   "outputs": [],
   "source": [
    "#file to load \n",
    "heroes_csv = \"resources/purchase_data.csv\""
   ]
  },
  {
   "cell_type": "code",
   "execution_count": 3,
   "metadata": {},
   "outputs": [
    {
     "data": {
      "text/html": [
       "<div>\n",
       "<style scoped>\n",
       "    .dataframe tbody tr th:only-of-type {\n",
       "        vertical-align: middle;\n",
       "    }\n",
       "\n",
       "    .dataframe tbody tr th {\n",
       "        vertical-align: top;\n",
       "    }\n",
       "\n",
       "    .dataframe thead th {\n",
       "        text-align: right;\n",
       "    }\n",
       "</style>\n",
       "<table border=\"1\" class=\"dataframe\">\n",
       "  <thead>\n",
       "    <tr style=\"text-align: right;\">\n",
       "      <th></th>\n",
       "      <th>Purchase ID</th>\n",
       "      <th>SN</th>\n",
       "      <th>Age</th>\n",
       "      <th>Gender</th>\n",
       "      <th>Item ID</th>\n",
       "      <th>Item Name</th>\n",
       "      <th>Price</th>\n",
       "    </tr>\n",
       "  </thead>\n",
       "  <tbody>\n",
       "    <tr>\n",
       "      <th>0</th>\n",
       "      <td>0</td>\n",
       "      <td>Lisim78</td>\n",
       "      <td>20</td>\n",
       "      <td>Male</td>\n",
       "      <td>108</td>\n",
       "      <td>Extraction, Quickblade Of Trembling Hands</td>\n",
       "      <td>3.53</td>\n",
       "    </tr>\n",
       "    <tr>\n",
       "      <th>1</th>\n",
       "      <td>1</td>\n",
       "      <td>Lisovynya38</td>\n",
       "      <td>40</td>\n",
       "      <td>Male</td>\n",
       "      <td>143</td>\n",
       "      <td>Frenzied Scimitar</td>\n",
       "      <td>1.56</td>\n",
       "    </tr>\n",
       "    <tr>\n",
       "      <th>2</th>\n",
       "      <td>2</td>\n",
       "      <td>Ithergue48</td>\n",
       "      <td>24</td>\n",
       "      <td>Male</td>\n",
       "      <td>92</td>\n",
       "      <td>Final Critic</td>\n",
       "      <td>4.88</td>\n",
       "    </tr>\n",
       "    <tr>\n",
       "      <th>3</th>\n",
       "      <td>3</td>\n",
       "      <td>Chamassasya86</td>\n",
       "      <td>24</td>\n",
       "      <td>Male</td>\n",
       "      <td>100</td>\n",
       "      <td>Blindscythe</td>\n",
       "      <td>3.27</td>\n",
       "    </tr>\n",
       "    <tr>\n",
       "      <th>4</th>\n",
       "      <td>4</td>\n",
       "      <td>Iskosia90</td>\n",
       "      <td>23</td>\n",
       "      <td>Male</td>\n",
       "      <td>131</td>\n",
       "      <td>Fury</td>\n",
       "      <td>1.44</td>\n",
       "    </tr>\n",
       "  </tbody>\n",
       "</table>\n",
       "</div>"
      ],
      "text/plain": [
       "   Purchase ID             SN  Age Gender  Item ID  \\\n",
       "0            0        Lisim78   20   Male      108   \n",
       "1            1    Lisovynya38   40   Male      143   \n",
       "2            2     Ithergue48   24   Male       92   \n",
       "3            3  Chamassasya86   24   Male      100   \n",
       "4            4      Iskosia90   23   Male      131   \n",
       "\n",
       "                                   Item Name  Price  \n",
       "0  Extraction, Quickblade Of Trembling Hands   3.53  \n",
       "1                          Frenzied Scimitar   1.56  \n",
       "2                               Final Critic   4.88  \n",
       "3                                Blindscythe   3.27  \n",
       "4                                       Fury   1.44  "
      ]
     },
     "execution_count": 3,
     "metadata": {},
     "output_type": "execute_result"
    }
   ],
   "source": [
    "#read purchasing file and store into pandas data frame\n",
    "heroes_df = pd.read_csv(heroes_csv)\n",
    "heroes_df.head()"
   ]
  },
  {
   "cell_type": "code",
   "execution_count": 4,
   "metadata": {
    "tags": []
   },
   "outputs": [
    {
     "data": {
      "text/html": [
       "<div>\n",
       "<style scoped>\n",
       "    .dataframe tbody tr th:only-of-type {\n",
       "        vertical-align: middle;\n",
       "    }\n",
       "\n",
       "    .dataframe tbody tr th {\n",
       "        vertical-align: top;\n",
       "    }\n",
       "\n",
       "    .dataframe thead th {\n",
       "        text-align: right;\n",
       "    }\n",
       "</style>\n",
       "<table border=\"1\" class=\"dataframe\">\n",
       "  <thead>\n",
       "    <tr style=\"text-align: right;\">\n",
       "      <th></th>\n",
       "      <th>SN</th>\n",
       "    </tr>\n",
       "  </thead>\n",
       "  <tbody>\n",
       "    <tr>\n",
       "      <th>count</th>\n",
       "      <td>780</td>\n",
       "    </tr>\n",
       "  </tbody>\n",
       "</table>\n",
       "</div>"
      ],
      "text/plain": [
       "        SN\n",
       "count  780"
      ]
     },
     "execution_count": 4,
     "metadata": {},
     "output_type": "execute_result"
    }
   ],
   "source": [
    "heroes_df.aggregate({\"SN\":[ 'count']})"
   ]
  },
  {
   "cell_type": "code",
   "execution_count": 5,
   "metadata": {},
   "outputs": [
    {
     "name": "stdout",
     "output_type": "stream",
     "text": [
      "Total Players=  576\n"
     ]
    }
   ],
   "source": [
    "total_players_df = heroes_df[\"SN\"].nunique()\n",
    "print(\"Total Players= \",\n",
    "      total_players_df)\n"
   ]
  },
  {
   "cell_type": "code",
   "execution_count": 6,
   "metadata": {},
   "outputs": [
    {
     "data": {
      "text/plain": [
       "179"
      ]
     },
     "execution_count": 6,
     "metadata": {},
     "output_type": "execute_result"
    }
   ],
   "source": [
    "heroes_df[\"Item Name\"].nunique()"
   ]
  },
  {
   "cell_type": "code",
   "execution_count": 7,
   "metadata": {
    "tags": []
   },
   "outputs": [
    {
     "name": "stdout",
     "output_type": "stream",
     "text": [
      "Purchase ID      int64\n",
      "SN              object\n",
      "Age              int64\n",
      "Gender          object\n",
      "Item ID          int64\n",
      "Item Name       object\n",
      "Price          float64\n",
      "dtype: object\n"
     ]
    }
   ],
   "source": [
    "dataset = (heroes_df)\n",
    "print(dataset.dtypes)\n"
   ]
  },
  {
   "cell_type": "code",
   "execution_count": 8,
   "metadata": {
    "tags": []
   },
   "outputs": [
    {
     "name": "stdout",
     "output_type": "stream",
     "text": [
      "5460\n"
     ]
    },
    {
     "data": {
      "text/plain": [
       "(None, (780, 7))"
      ]
     },
     "execution_count": 8,
     "metadata": {},
     "output_type": "execute_result"
    }
   ],
   "source": [
    "print(dataset.size), (dataset.shape)"
   ]
  },
  {
   "cell_type": "code",
   "execution_count": 9,
   "metadata": {},
   "outputs": [
    {
     "name": "stdout",
     "output_type": "stream",
     "text": [
      "Purchase ID                                               303810\n",
      "SN             Lisim78Lisovynya38Ithergue48Chamassasya86Iskos...\n",
      "Age                                                        17717\n",
      "Gender         MaleMaleMaleMaleMaleMaleMaleMaleMaleOther / No...\n",
      "Item ID                                                    71569\n",
      "Item Name      Extraction, Quickblade Of Trembling HandsFrenz...\n",
      "Price                                                    2379.77\n",
      "dtype: object\n"
     ]
    }
   ],
   "source": [
    "print(dataset.sum())"
   ]
  },
  {
   "cell_type": "code",
   "execution_count": 10,
   "metadata": {},
   "outputs": [
    {
     "name": "stdout",
     "output_type": "stream",
     "text": [
      "Purchase ID    780\n",
      "SN             780\n",
      "Age            780\n",
      "Gender         780\n",
      "Item ID        780\n",
      "Item Name      780\n",
      "Price          780\n",
      "dtype: int64\n"
     ]
    }
   ],
   "source": [
    "print(dataset.count())"
   ]
  },
  {
   "cell_type": "code",
   "execution_count": 11,
   "metadata": {
    "tags": []
   },
   "outputs": [
    {
     "name": "stdout",
     "output_type": "stream",
     "text": [
      "       Purchase ID         Age     Item ID       Price\n",
      "count   780.000000  780.000000  780.000000  780.000000\n",
      "mean    389.500000   22.714103   91.755128    3.050987\n",
      "std     225.310896    6.659444   52.697702    1.169549\n",
      "min       0.000000    7.000000    0.000000    1.000000\n",
      "25%     194.750000   20.000000   47.750000    1.980000\n",
      "50%     389.500000   22.000000   92.000000    3.150000\n",
      "75%     584.250000   25.000000  138.000000    4.080000\n",
      "max     779.000000   45.000000  183.000000    4.990000\n"
     ]
    }
   ],
   "source": [
    "print(dataset.describe())"
   ]
  },
  {
   "cell_type": "code",
   "execution_count": 12,
   "metadata": {},
   "outputs": [
    {
     "name": "stdout",
     "output_type": "stream",
     "text": [
      "Yearning Mageblade\n"
     ]
    }
   ],
   "source": [
    "print(heroes_df[\"Item Name\"].max())"
   ]
  },
  {
   "cell_type": "code",
   "execution_count": 13,
   "metadata": {},
   "outputs": [
    {
     "name": "stdout",
     "output_type": "stream",
     "text": [
      "Purchase ID                      779\n",
      "SN                         Zontibe81\n",
      "Age                               45\n",
      "Gender         Other / Non-Disclosed\n",
      "Item ID                          183\n",
      "Item Name         Yearning Mageblade\n",
      "Price                           4.99\n",
      "dtype: object\n"
     ]
    }
   ],
   "source": [
    "print(dataset.max())"
   ]
  },
  {
   "cell_type": "code",
   "execution_count": 14,
   "metadata": {},
   "outputs": [
    {
     "name": "stdout",
     "output_type": "stream",
     "text": [
      "Purchase ID                0\n",
      "SN              Adairialis76\n",
      "Age                        7\n",
      "Gender                Female\n",
      "Item ID                    0\n",
      "Item Name      Abyssal Shard\n",
      "Price                    1.0\n",
      "dtype: object\n"
     ]
    }
   ],
   "source": [
    "print(dataset.min())"
   ]
  },
  {
   "cell_type": "code",
   "execution_count": 15,
   "metadata": {
    "tags": []
   },
   "outputs": [],
   "source": [
    "#heroes_df.loc[[12]]"
   ]
  },
  {
   "cell_type": "code",
   "execution_count": 16,
   "metadata": {},
   "outputs": [],
   "source": [
    "#print(heroes_df[\"Price\"].mean .unique)"
   ]
  },
  {
   "cell_type": "code",
   "execution_count": 17,
   "metadata": {
    "tags": []
   },
   "outputs": [
    {
     "data": {
      "text/html": [
       "<div>\n",
       "<style scoped>\n",
       "    .dataframe tbody tr th:only-of-type {\n",
       "        vertical-align: middle;\n",
       "    }\n",
       "\n",
       "    .dataframe tbody tr th {\n",
       "        vertical-align: top;\n",
       "    }\n",
       "\n",
       "    .dataframe thead th {\n",
       "        text-align: right;\n",
       "    }\n",
       "</style>\n",
       "<table border=\"1\" class=\"dataframe\">\n",
       "  <thead>\n",
       "    <tr style=\"text-align: right;\">\n",
       "      <th></th>\n",
       "      <th>Price</th>\n",
       "    </tr>\n",
       "  </thead>\n",
       "  <tbody>\n",
       "    <tr>\n",
       "      <th>mean</th>\n",
       "      <td>3.050987</td>\n",
       "    </tr>\n",
       "  </tbody>\n",
       "</table>\n",
       "</div>"
      ],
      "text/plain": [
       "         Price\n",
       "mean  3.050987"
      ]
     },
     "execution_count": 17,
     "metadata": {},
     "output_type": "execute_result"
    }
   ],
   "source": [
    "heroes_df.aggregate({\"Price\":[ 'mean']})"
   ]
  },
  {
   "cell_type": "markdown",
   "metadata": {},
   "source": [
    "* Display the total number of players\n"
   ]
  },
  {
   "cell_type": "code",
   "execution_count": 18,
   "metadata": {},
   "outputs": [],
   "source": [
    "total_players_df = heroes_df[\"SN\"].nunique()"
   ]
  },
  {
   "cell_type": "code",
   "execution_count": 19,
   "metadata": {
    "tags": []
   },
   "outputs": [
    {
     "data": {
      "text/html": [
       "<div>\n",
       "<style scoped>\n",
       "    .dataframe tbody tr th:only-of-type {\n",
       "        vertical-align: middle;\n",
       "    }\n",
       "\n",
       "    .dataframe tbody tr th {\n",
       "        vertical-align: top;\n",
       "    }\n",
       "\n",
       "    .dataframe thead th {\n",
       "        text-align: right;\n",
       "    }\n",
       "</style>\n",
       "<table border=\"1\" class=\"dataframe\">\n",
       "  <thead>\n",
       "    <tr style=\"text-align: right;\">\n",
       "      <th></th>\n",
       "      <th>Total Players</th>\n",
       "    </tr>\n",
       "  </thead>\n",
       "  <tbody>\n",
       "    <tr>\n",
       "      <th>0</th>\n",
       "      <td>576</td>\n",
       "    </tr>\n",
       "  </tbody>\n",
       "</table>\n",
       "</div>"
      ],
      "text/plain": [
       "   Total Players\n",
       "0            576"
      ]
     },
     "execution_count": 19,
     "metadata": {},
     "output_type": "execute_result"
    }
   ],
   "source": [
    "summary_df=pd.DataFrame({\"Total Players\": [total_players_df]})\n",
    "summary_df"
   ]
  },
  {
   "cell_type": "markdown",
   "metadata": {},
   "source": [
    "## Purchasing Analysis (Total)"
   ]
  },
  {
   "cell_type": "markdown",
   "metadata": {},
   "source": [
    "* Run basic calculations to obtain number of unique items, average price, etc.\n",
    "\n",
    "\n",
    "* Create a summary data frame to hold the results\n",
    "\n",
    "\n",
    "* Optional: give the displayed data cleaner formatting\n",
    "\n",
    "\n",
    "* Display the summary data frame\n"
   ]
  },
  {
   "cell_type": "code",
   "execution_count": 20,
   "metadata": {
    "tags": []
   },
   "outputs": [
    {
     "name": "stdout",
     "output_type": "stream",
     "text": [
      "       Purchase ID         Age     Item ID       Price\n",
      "count   780.000000  780.000000  780.000000  780.000000\n",
      "mean    389.500000   22.714103   91.755128    3.050987\n",
      "std     225.310896    6.659444   52.697702    1.169549\n",
      "min       0.000000    7.000000    0.000000    1.000000\n",
      "25%     194.750000   20.000000   47.750000    1.980000\n",
      "50%     389.500000   22.000000   92.000000    3.150000\n",
      "75%     584.250000   25.000000  138.000000    4.080000\n",
      "max     779.000000   45.000000  183.000000    4.990000\n"
     ]
    }
   ],
   "source": [
    "print(dataset.describe())"
   ]
  },
  {
   "cell_type": "code",
   "execution_count": 21,
   "metadata": {
    "tags": []
   },
   "outputs": [
    {
     "data": {
      "text/html": [
       "<div>\n",
       "<style scoped>\n",
       "    .dataframe tbody tr th:only-of-type {\n",
       "        vertical-align: middle;\n",
       "    }\n",
       "\n",
       "    .dataframe tbody tr th {\n",
       "        vertical-align: top;\n",
       "    }\n",
       "\n",
       "    .dataframe thead th {\n",
       "        text-align: right;\n",
       "    }\n",
       "</style>\n",
       "<table border=\"1\" class=\"dataframe\">\n",
       "  <thead>\n",
       "    <tr style=\"text-align: right;\">\n",
       "      <th></th>\n",
       "      <th>Price</th>\n",
       "    </tr>\n",
       "  </thead>\n",
       "  <tbody>\n",
       "    <tr>\n",
       "      <th>sum</th>\n",
       "      <td>2379.77</td>\n",
       "    </tr>\n",
       "  </tbody>\n",
       "</table>\n",
       "</div>"
      ],
      "text/plain": [
       "       Price\n",
       "sum  2379.77"
      ]
     },
     "execution_count": 21,
     "metadata": {},
     "output_type": "execute_result"
    }
   ],
   "source": [
    "heroes_df.aggregate({\"Price\":[ 'sum']})"
   ]
  },
  {
   "cell_type": "code",
   "execution_count": 22,
   "metadata": {
    "jupyter": {
     "source_hidden": true
    },
    "tags": []
   },
   "outputs": [
    {
     "data": {
      "text/plain": [
       "Purchase ID                                               303810\n",
       "SN             Lisim78Lisovynya38Ithergue48Chamassasya86Iskos...\n",
       "Age                                                        17717\n",
       "Gender         MaleMaleMaleMaleMaleMaleMaleMaleMaleOther / No...\n",
       "Item ID                                                    71569\n",
       "Item Name      Extraction, Quickblade Of Trembling HandsFrenz...\n",
       "Price                                                    2379.77\n",
       "dtype: object"
      ]
     },
     "execution_count": 22,
     "metadata": {},
     "output_type": "execute_result"
    }
   ],
   "source": [
    "summary_df = heroes_df.sum()\n",
    "summary_df"
   ]
  },
  {
   "cell_type": "code",
   "execution_count": 23,
   "metadata": {},
   "outputs": [
    {
     "name": "stdout",
     "output_type": "stream",
     "text": [
      "179\n"
     ]
    }
   ],
   "source": [
    "unique_items=heroes_df[\"Item Name\"].nunique()\n",
    "print(unique_items)"
   ]
  },
  {
   "cell_type": "code",
   "execution_count": 24,
   "metadata": {},
   "outputs": [
    {
     "name": "stdout",
     "output_type": "stream",
     "text": [
      "3.050987179487176\n"
     ]
    }
   ],
   "source": [
    "average_price=heroes_df[\"Price\"].mean()\n",
    "print(average_price)"
   ]
  },
  {
   "cell_type": "code",
   "execution_count": 25,
   "metadata": {},
   "outputs": [
    {
     "name": "stdout",
     "output_type": "stream",
     "text": [
      "780\n"
     ]
    }
   ],
   "source": [
    "purchase_total = heroes_df[\"Item ID\"].count()\n",
    "print(purchase_total)"
   ]
  },
  {
   "cell_type": "code",
   "execution_count": 26,
   "metadata": {},
   "outputs": [
    {
     "name": "stdout",
     "output_type": "stream",
     "text": [
      "2379.77\n"
     ]
    }
   ],
   "source": [
    "total_revenue = heroes_df[\"Price\"].sum()\n",
    "print(total_revenue)"
   ]
  },
  {
   "cell_type": "code",
   "execution_count": 27,
   "metadata": {},
   "outputs": [
    {
     "data": {
      "text/html": [
       "<div>\n",
       "<style scoped>\n",
       "    .dataframe tbody tr th:only-of-type {\n",
       "        vertical-align: middle;\n",
       "    }\n",
       "\n",
       "    .dataframe tbody tr th {\n",
       "        vertical-align: top;\n",
       "    }\n",
       "\n",
       "    .dataframe thead th {\n",
       "        text-align: right;\n",
       "    }\n",
       "</style>\n",
       "<table border=\"1\" class=\"dataframe\">\n",
       "  <thead>\n",
       "    <tr style=\"text-align: right;\">\n",
       "      <th></th>\n",
       "      <th>Number of Unique Items</th>\n",
       "      <th>Average Price</th>\n",
       "      <th>Number of Purchases</th>\n",
       "      <th>Total Revenue</th>\n",
       "    </tr>\n",
       "  </thead>\n",
       "  <tbody>\n",
       "    <tr>\n",
       "      <th>0</th>\n",
       "      <td>179</td>\n",
       "      <td>3.050987</td>\n",
       "      <td>780</td>\n",
       "      <td>2379.77</td>\n",
       "    </tr>\n",
       "  </tbody>\n",
       "</table>\n",
       "</div>"
      ],
      "text/plain": [
       "   Number of Unique Items  Average Price  Number of Purchases  Total Revenue\n",
       "0                     179       3.050987                  780        2379.77"
      ]
     },
     "execution_count": 27,
     "metadata": {},
     "output_type": "execute_result"
    }
   ],
   "source": [
    "summary_df = pd.DataFrame({\n",
    "    \"Number of Unique Items\": [unique_items],\n",
    "    \"Average Price\": [average_price],\n",
    "    \"Number of Purchases\": [purchase_total],\n",
    "    \"Total Revenue\": [total_revenue],\n",
    "})\n",
    "summary_df.head()\n"
   ]
  },
  {
   "cell_type": "markdown",
   "metadata": {},
   "source": [
    "## Gender Demographics"
   ]
  },
  {
   "cell_type": "markdown",
   "metadata": {
    "tags": []
   },
   "source": [
    "* Percentage and Count of Male Players\n",
    "\n",
    "\n",
    "* Percentage and Count of Female Players\n",
    "\n",
    "\n",
    "* Percentage and Count of Other / Non-Disclosed"
   ]
  },
  {
   "cell_type": "code",
   "execution_count": 28,
   "metadata": {},
   "outputs": [
    {
     "data": {
      "text/html": [
       "<div>\n",
       "<style scoped>\n",
       "    .dataframe tbody tr th:only-of-type {\n",
       "        vertical-align: middle;\n",
       "    }\n",
       "\n",
       "    .dataframe tbody tr th {\n",
       "        vertical-align: top;\n",
       "    }\n",
       "\n",
       "    .dataframe thead th {\n",
       "        text-align: right;\n",
       "    }\n",
       "</style>\n",
       "<table border=\"1\" class=\"dataframe\">\n",
       "  <thead>\n",
       "    <tr style=\"text-align: right;\">\n",
       "      <th></th>\n",
       "      <th>Total Players</th>\n",
       "    </tr>\n",
       "  </thead>\n",
       "  <tbody>\n",
       "    <tr>\n",
       "      <th>0</th>\n",
       "      <td>576</td>\n",
       "    </tr>\n",
       "  </tbody>\n",
       "</table>\n",
       "</div>"
      ],
      "text/plain": [
       "   Total Players\n",
       "0            576"
      ]
     },
     "execution_count": 28,
     "metadata": {},
     "output_type": "execute_result"
    }
   ],
   "source": [
    "player_count = len(heroes_df[\"SN\"].unique())\n",
    "total_players_df=pd.DataFrame({'Total Players': [player_count]})\n",
    "total_players_df"
   ]
  },
  {
   "cell_type": "markdown",
   "metadata": {},
   "source": [
    "\n",
    "## Purchasing Analysis (Gender)"
   ]
  },
  {
   "cell_type": "markdown",
   "metadata": {},
   "source": [
    "* Run basic calculations to obtain purchase count, avg. purchase price, avg. purchase total per person etc. by gender\n",
    "\n",
    "\n",
    "\n",
    "\n",
    "* Create a summary data frame to hold the results\n",
    "\n",
    "\n",
    "* Optional: give the displayed data cleaner formatting\n",
    "\n",
    "\n",
    "* Display the summary data frame"
   ]
  },
  {
   "cell_type": "code",
   "execution_count": 29,
   "metadata": {},
   "outputs": [],
   "source": [
    "gender_df = heroes_df.groupby('Gender')\n",
    "gender_count = gender_df['Gender'].count()"
   ]
  },
  {
   "cell_type": "code",
   "execution_count": 30,
   "metadata": {},
   "outputs": [],
   "source": [
    "avg_price = gender_df['Price'].mean()"
   ]
  },
  {
   "cell_type": "code",
   "execution_count": 31,
   "metadata": {},
   "outputs": [],
   "source": [
    "purchase_tot = gender_df['Price'].sum()"
   ]
  },
  {
   "cell_type": "code",
   "execution_count": 32,
   "metadata": {},
   "outputs": [],
   "source": [
    "avg_tot = purchase_tot / gender_df['SN'].nunique()"
   ]
  },
  {
   "cell_type": "code",
   "execution_count": 33,
   "metadata": {},
   "outputs": [],
   "source": [
    "gender_analysis_df = pd.DataFrame({\n",
    "    'Purchase Count': gender_count,\n",
    "    'Average Purchase Price': avg_price, \n",
    "    'Total Purchase Value': purchase_tot, \n",
    "    'Avg Total Purchase per Person': avg_tot})"
   ]
  },
  {
   "cell_type": "code",
   "execution_count": 34,
   "metadata": {},
   "outputs": [
    {
     "data": {
      "text/html": [
       "<style  type=\"text/css\" >\n",
       "</style><table id=\"T_68ee3_\" ><thead>    <tr>        <th class=\"blank level0\" ></th>        <th class=\"col_heading level0 col0\" >Purchase Count</th>        <th class=\"col_heading level0 col1\" >Average Purchase Price</th>        <th class=\"col_heading level0 col2\" >Total Purchase Value</th>        <th class=\"col_heading level0 col3\" >Avg Total Purchase per Person</th>    </tr>    <tr>        <th class=\"index_name level0\" >Gender</th>        <th class=\"blank\" ></th>        <th class=\"blank\" ></th>        <th class=\"blank\" ></th>        <th class=\"blank\" ></th>    </tr></thead><tbody>\n",
       "                <tr>\n",
       "                        <th id=\"T_68ee3_level0_row0\" class=\"row_heading level0 row0\" >Female</th>\n",
       "                        <td id=\"T_68ee3_row0_col0\" class=\"data row0 col0\" >113</td>\n",
       "                        <td id=\"T_68ee3_row0_col1\" class=\"data row0 col1\" >$3.20</td>\n",
       "                        <td id=\"T_68ee3_row0_col2\" class=\"data row0 col2\" >$361.94</td>\n",
       "                        <td id=\"T_68ee3_row0_col3\" class=\"data row0 col3\" >$4.47</td>\n",
       "            </tr>\n",
       "            <tr>\n",
       "                        <th id=\"T_68ee3_level0_row1\" class=\"row_heading level0 row1\" >Male</th>\n",
       "                        <td id=\"T_68ee3_row1_col0\" class=\"data row1 col0\" >652</td>\n",
       "                        <td id=\"T_68ee3_row1_col1\" class=\"data row1 col1\" >$3.02</td>\n",
       "                        <td id=\"T_68ee3_row1_col2\" class=\"data row1 col2\" >$1,967.64</td>\n",
       "                        <td id=\"T_68ee3_row1_col3\" class=\"data row1 col3\" >$4.07</td>\n",
       "            </tr>\n",
       "            <tr>\n",
       "                        <th id=\"T_68ee3_level0_row2\" class=\"row_heading level0 row2\" >Other / Non-Disclosed</th>\n",
       "                        <td id=\"T_68ee3_row2_col0\" class=\"data row2 col0\" >15</td>\n",
       "                        <td id=\"T_68ee3_row2_col1\" class=\"data row2 col1\" >$3.35</td>\n",
       "                        <td id=\"T_68ee3_row2_col2\" class=\"data row2 col2\" >$50.19</td>\n",
       "                        <td id=\"T_68ee3_row2_col3\" class=\"data row2 col3\" >$4.56</td>\n",
       "            </tr>\n",
       "    </tbody></table>"
      ],
      "text/plain": [
       "<pandas.io.formats.style.Styler at 0x18714b85400>"
      ]
     },
     "execution_count": 34,
     "metadata": {},
     "output_type": "execute_result"
    }
   ],
   "source": [
    "gender_analysis_df.style.format({\n",
    "    'Average Purchase Price': '${:,.2f}', \n",
    "    'Total Purchase Value': '${:,.2f}', \n",
    "    'Avg Total Purchase per Person': '${:,.2f}'})"
   ]
  },
  {
   "cell_type": "markdown",
   "metadata": {},
   "source": [
    "## Age Demographics"
   ]
  },
  {
   "cell_type": "markdown",
   "metadata": {},
   "source": [
    "* Establish bins for ages\n",
    "\n",
    "\n",
    "* Categorize the existing players using the age bins. Hint: use pd.cut()\n",
    "\n",
    "\n",
    "* Calculate the numbers and percentages by age group\n",
    "\n",
    "\n",
    "* Create a summary data frame to hold the results\n",
    "\n",
    "\n",
    "* Optional: round the percentage column to two decimal points\n",
    "\n",
    "\n",
    "* Display Age Demographics Table\n"
   ]
  },
  {
   "cell_type": "code",
   "execution_count": 35,
   "metadata": {},
   "outputs": [],
   "source": [
    "bins = [0, 5, 10, 15, 20, 25, 30, 35, 40, 45]"
   ]
  },
  {
   "cell_type": "code",
   "execution_count": 36,
   "metadata": {},
   "outputs": [],
   "source": [
    "age_labels = [\"0-4\", \"5-9\", \"10-14\", \"15-19\", \"20-24\", \"25-29\", \"30-34\", \"35-39\", \"40-45\"]"
   ]
  },
  {
   "cell_type": "code",
   "execution_count": 37,
   "metadata": {},
   "outputs": [
    {
     "data": {
      "text/plain": [
       "0    15-19\n",
       "1    35-39\n",
       "2    20-24\n",
       "3    20-24\n",
       "4    20-24\n",
       "Name: Age, dtype: category\n",
       "Categories (9, object): ['0-4' < '5-9' < '10-14' < '15-19' ... '25-29' < '30-34' < '35-39' < '40-45']"
      ]
     },
     "execution_count": 37,
     "metadata": {},
     "output_type": "execute_result"
    }
   ],
   "source": [
    "pd.cut(heroes_df[\"Age\"], bins, labels = age_labels).head()"
   ]
  },
  {
   "cell_type": "code",
   "execution_count": 38,
   "metadata": {},
   "outputs": [],
   "source": [
    "heroes_df['Age List'] = pd.cut(heroes_df['Age'], bins, labels=age_labels)"
   ]
  },
  {
   "cell_type": "code",
   "execution_count": 39,
   "metadata": {},
   "outputs": [],
   "source": [
    "age_group_df = heroes_df.groupby('Age List')"
   ]
  },
  {
   "cell_type": "code",
   "execution_count": 40,
   "metadata": {},
   "outputs": [],
   "source": [
    "age_cnt = age_group_df['SN'].nunique()"
   ]
  },
  {
   "cell_type": "code",
   "execution_count": 41,
   "metadata": {},
   "outputs": [],
   "source": [
    "age_pct = age_cnt / player_count"
   ]
  },
  {
   "cell_type": "code",
   "execution_count": 42,
   "metadata": {},
   "outputs": [],
   "source": [
    "age_demo_df = pd.DataFrame({'TotalCount': age_cnt, 'Percetage of Players': age_pct})"
   ]
  },
  {
   "cell_type": "code",
   "execution_count": 43,
   "metadata": {},
   "outputs": [
    {
     "data": {
      "text/html": [
       "<style  type=\"text/css\" >\n",
       "</style><table id=\"T_459fc_\" ><thead>    <tr>        <th class=\"blank level0\" ></th>        <th class=\"col_heading level0 col0\" >TotalCount</th>        <th class=\"col_heading level0 col1\" >Percetage of Players</th>    </tr>    <tr>        <th class=\"index_name level0\" >Age List</th>        <th class=\"blank\" ></th>        <th class=\"blank\" ></th>    </tr></thead><tbody>\n",
       "                <tr>\n",
       "                        <th id=\"T_459fc_level0_row0\" class=\"row_heading level0 row0\" >0-4</th>\n",
       "                        <td id=\"T_459fc_row0_col0\" class=\"data row0 col0\" >0</td>\n",
       "                        <td id=\"T_459fc_row0_col1\" class=\"data row0 col1\" >0.000000</td>\n",
       "            </tr>\n",
       "            <tr>\n",
       "                        <th id=\"T_459fc_level0_row1\" class=\"row_heading level0 row1\" >5-9</th>\n",
       "                        <td id=\"T_459fc_row1_col0\" class=\"data row1 col0\" >24</td>\n",
       "                        <td id=\"T_459fc_row1_col1\" class=\"data row1 col1\" >0.041667</td>\n",
       "            </tr>\n",
       "            <tr>\n",
       "                        <th id=\"T_459fc_level0_row2\" class=\"row_heading level0 row2\" >10-14</th>\n",
       "                        <td id=\"T_459fc_row2_col0\" class=\"data row2 col0\" >41</td>\n",
       "                        <td id=\"T_459fc_row2_col1\" class=\"data row2 col1\" >0.071181</td>\n",
       "            </tr>\n",
       "            <tr>\n",
       "                        <th id=\"T_459fc_level0_row3\" class=\"row_heading level0 row3\" >15-19</th>\n",
       "                        <td id=\"T_459fc_row3_col0\" class=\"data row3 col0\" >150</td>\n",
       "                        <td id=\"T_459fc_row3_col1\" class=\"data row3 col1\" >0.260417</td>\n",
       "            </tr>\n",
       "            <tr>\n",
       "                        <th id=\"T_459fc_level0_row4\" class=\"row_heading level0 row4\" >20-24</th>\n",
       "                        <td id=\"T_459fc_row4_col0\" class=\"data row4 col0\" >232</td>\n",
       "                        <td id=\"T_459fc_row4_col1\" class=\"data row4 col1\" >0.402778</td>\n",
       "            </tr>\n",
       "            <tr>\n",
       "                        <th id=\"T_459fc_level0_row5\" class=\"row_heading level0 row5\" >25-29</th>\n",
       "                        <td id=\"T_459fc_row5_col0\" class=\"data row5 col0\" >59</td>\n",
       "                        <td id=\"T_459fc_row5_col1\" class=\"data row5 col1\" >0.102431</td>\n",
       "            </tr>\n",
       "            <tr>\n",
       "                        <th id=\"T_459fc_level0_row6\" class=\"row_heading level0 row6\" >30-34</th>\n",
       "                        <td id=\"T_459fc_row6_col0\" class=\"data row6 col0\" >37</td>\n",
       "                        <td id=\"T_459fc_row6_col1\" class=\"data row6 col1\" >0.064236</td>\n",
       "            </tr>\n",
       "            <tr>\n",
       "                        <th id=\"T_459fc_level0_row7\" class=\"row_heading level0 row7\" >35-39</th>\n",
       "                        <td id=\"T_459fc_row7_col0\" class=\"data row7 col0\" >26</td>\n",
       "                        <td id=\"T_459fc_row7_col1\" class=\"data row7 col1\" >0.045139</td>\n",
       "            </tr>\n",
       "            <tr>\n",
       "                        <th id=\"T_459fc_level0_row8\" class=\"row_heading level0 row8\" >40-45</th>\n",
       "                        <td id=\"T_459fc_row8_col0\" class=\"data row8 col0\" >7</td>\n",
       "                        <td id=\"T_459fc_row8_col1\" class=\"data row8 col1\" >0.012153</td>\n",
       "            </tr>\n",
       "    </tbody></table>"
      ],
      "text/plain": [
       "<pandas.io.formats.style.Styler at 0x187157db4c0>"
      ]
     },
     "execution_count": 43,
     "metadata": {},
     "output_type": "execute_result"
    }
   ],
   "source": [
    "age_demo_df.style.format({'Percent of Players': '{:,.2%'})"
   ]
  },
  {
   "cell_type": "markdown",
   "metadata": {},
   "source": [
    "## Purchasing Analysis (Age)"
   ]
  },
  {
   "cell_type": "markdown",
   "metadata": {},
   "source": [
    "* Bin the purchase_data data frame by age\n",
    "\n",
    "\n",
    "* Run basic calculations to obtain purchase count, avg. purchase price, avg. purchase total per person etc. in the table below\n",
    "\n",
    "\n",
    "* Create a summary data frame to hold the results\n",
    "\n",
    "\n",
    "* Optional: give the displayed data cleaner formatting\n",
    "\n",
    "\n",
    "* Display the summary data frame"
   ]
  },
  {
   "cell_type": "code",
   "execution_count": 44,
   "metadata": {},
   "outputs": [],
   "source": [
    "purchase_count = age_group_df['Purchase ID'].count()"
   ]
  },
  {
   "cell_type": "code",
   "execution_count": 45,
   "metadata": {},
   "outputs": [],
   "source": [
    "purchase_avg = age_group_df['Price'].mean()"
   ]
  },
  {
   "cell_type": "code",
   "execution_count": 46,
   "metadata": {},
   "outputs": [],
   "source": [
    "purchase_value = age_group_df['Price'].sum()"
   ]
  },
  {
   "cell_type": "code",
   "execution_count": 47,
   "metadata": {},
   "outputs": [],
   "source": [
    "avg_purchase = purchase_value / age_cnt"
   ]
  },
  {
   "cell_type": "code",
   "execution_count": 48,
   "metadata": {},
   "outputs": [],
   "source": [
    "analysis_df = pd.DataFrame({\n",
    "    'Purchase Count': purchase_count, \n",
    "    'Average Purchase Price': purchase_avg, \n",
    "    'Total Purchase Value': purchase_value, \n",
    "    'Avg Total Purchase per Person': avg_purchase})"
   ]
  },
  {
   "cell_type": "code",
   "execution_count": 49,
   "metadata": {},
   "outputs": [
    {
     "data": {
      "text/html": [
       "<style  type=\"text/css\" >\n",
       "</style><table id=\"T_82ef2_\" ><thead>    <tr>        <th class=\"blank level0\" ></th>        <th class=\"col_heading level0 col0\" >Purchase Count</th>        <th class=\"col_heading level0 col1\" >Average Purchase Price</th>        <th class=\"col_heading level0 col2\" >Total Purchase Value</th>        <th class=\"col_heading level0 col3\" >Avg Total Purchase per Person</th>    </tr>    <tr>        <th class=\"index_name level0\" >Age List</th>        <th class=\"blank\" ></th>        <th class=\"blank\" ></th>        <th class=\"blank\" ></th>        <th class=\"blank\" ></th>    </tr></thead><tbody>\n",
       "                <tr>\n",
       "                        <th id=\"T_82ef2_level0_row0\" class=\"row_heading level0 row0\" >0-4</th>\n",
       "                        <td id=\"T_82ef2_row0_col0\" class=\"data row0 col0\" >0</td>\n",
       "                        <td id=\"T_82ef2_row0_col1\" class=\"data row0 col1\" >$nan</td>\n",
       "                        <td id=\"T_82ef2_row0_col2\" class=\"data row0 col2\" >$0.00</td>\n",
       "                        <td id=\"T_82ef2_row0_col3\" class=\"data row0 col3\" >$nan</td>\n",
       "            </tr>\n",
       "            <tr>\n",
       "                        <th id=\"T_82ef2_level0_row1\" class=\"row_heading level0 row1\" >5-9</th>\n",
       "                        <td id=\"T_82ef2_row1_col0\" class=\"data row1 col0\" >32</td>\n",
       "                        <td id=\"T_82ef2_row1_col1\" class=\"data row1 col1\" >$3.40</td>\n",
       "                        <td id=\"T_82ef2_row1_col2\" class=\"data row1 col2\" >$108.96</td>\n",
       "                        <td id=\"T_82ef2_row1_col3\" class=\"data row1 col3\" >$4.54</td>\n",
       "            </tr>\n",
       "            <tr>\n",
       "                        <th id=\"T_82ef2_level0_row2\" class=\"row_heading level0 row2\" >10-14</th>\n",
       "                        <td id=\"T_82ef2_row2_col0\" class=\"data row2 col0\" >54</td>\n",
       "                        <td id=\"T_82ef2_row2_col1\" class=\"data row2 col1\" >$2.90</td>\n",
       "                        <td id=\"T_82ef2_row2_col2\" class=\"data row2 col2\" >$156.60</td>\n",
       "                        <td id=\"T_82ef2_row2_col3\" class=\"data row2 col3\" >$3.82</td>\n",
       "            </tr>\n",
       "            <tr>\n",
       "                        <th id=\"T_82ef2_level0_row3\" class=\"row_heading level0 row3\" >15-19</th>\n",
       "                        <td id=\"T_82ef2_row3_col0\" class=\"data row3 col0\" >200</td>\n",
       "                        <td id=\"T_82ef2_row3_col1\" class=\"data row3 col1\" >$3.11</td>\n",
       "                        <td id=\"T_82ef2_row3_col2\" class=\"data row3 col2\" >$621.56</td>\n",
       "                        <td id=\"T_82ef2_row3_col3\" class=\"data row3 col3\" >$4.14</td>\n",
       "            </tr>\n",
       "            <tr>\n",
       "                        <th id=\"T_82ef2_level0_row4\" class=\"row_heading level0 row4\" >20-24</th>\n",
       "                        <td id=\"T_82ef2_row4_col0\" class=\"data row4 col0\" >325</td>\n",
       "                        <td id=\"T_82ef2_row4_col1\" class=\"data row4 col1\" >$3.02</td>\n",
       "                        <td id=\"T_82ef2_row4_col2\" class=\"data row4 col2\" >$981.64</td>\n",
       "                        <td id=\"T_82ef2_row4_col3\" class=\"data row4 col3\" >$4.23</td>\n",
       "            </tr>\n",
       "            <tr>\n",
       "                        <th id=\"T_82ef2_level0_row5\" class=\"row_heading level0 row5\" >25-29</th>\n",
       "                        <td id=\"T_82ef2_row5_col0\" class=\"data row5 col0\" >77</td>\n",
       "                        <td id=\"T_82ef2_row5_col1\" class=\"data row5 col1\" >$2.88</td>\n",
       "                        <td id=\"T_82ef2_row5_col2\" class=\"data row5 col2\" >$221.42</td>\n",
       "                        <td id=\"T_82ef2_row5_col3\" class=\"data row5 col3\" >$3.75</td>\n",
       "            </tr>\n",
       "            <tr>\n",
       "                        <th id=\"T_82ef2_level0_row6\" class=\"row_heading level0 row6\" >30-34</th>\n",
       "                        <td id=\"T_82ef2_row6_col0\" class=\"data row6 col0\" >52</td>\n",
       "                        <td id=\"T_82ef2_row6_col1\" class=\"data row6 col1\" >$2.99</td>\n",
       "                        <td id=\"T_82ef2_row6_col2\" class=\"data row6 col2\" >$155.71</td>\n",
       "                        <td id=\"T_82ef2_row6_col3\" class=\"data row6 col3\" >$4.21</td>\n",
       "            </tr>\n",
       "            <tr>\n",
       "                        <th id=\"T_82ef2_level0_row7\" class=\"row_heading level0 row7\" >35-39</th>\n",
       "                        <td id=\"T_82ef2_row7_col0\" class=\"data row7 col0\" >33</td>\n",
       "                        <td id=\"T_82ef2_row7_col1\" class=\"data row7 col1\" >$3.40</td>\n",
       "                        <td id=\"T_82ef2_row7_col2\" class=\"data row7 col2\" >$112.35</td>\n",
       "                        <td id=\"T_82ef2_row7_col3\" class=\"data row7 col3\" >$4.32</td>\n",
       "            </tr>\n",
       "            <tr>\n",
       "                        <th id=\"T_82ef2_level0_row8\" class=\"row_heading level0 row8\" >40-45</th>\n",
       "                        <td id=\"T_82ef2_row8_col0\" class=\"data row8 col0\" >7</td>\n",
       "                        <td id=\"T_82ef2_row8_col1\" class=\"data row8 col1\" >$3.08</td>\n",
       "                        <td id=\"T_82ef2_row8_col2\" class=\"data row8 col2\" >$21.53</td>\n",
       "                        <td id=\"T_82ef2_row8_col3\" class=\"data row8 col3\" >$3.08</td>\n",
       "            </tr>\n",
       "    </tbody></table>"
      ],
      "text/plain": [
       "<pandas.io.formats.style.Styler at 0x187157db250>"
      ]
     },
     "execution_count": 49,
     "metadata": {},
     "output_type": "execute_result"
    }
   ],
   "source": [
    "analysis_df.style.format({\n",
    "    'Average Purchase Price': '${:,.2f}', \n",
    "    'Total Purchase Value': '${:,.2f}', \n",
    "    'Avg Total Purchase per Person': '${:,.2f}'})"
   ]
  },
  {
   "cell_type": "markdown",
   "metadata": {},
   "source": [
    "## Top Spenders"
   ]
  },
  {
   "cell_type": "code",
   "execution_count": 50,
   "metadata": {},
   "outputs": [],
   "source": [
    "spender_df = heroes_df.groupby('SN')"
   ]
  },
  {
   "cell_type": "code",
   "execution_count": 51,
   "metadata": {},
   "outputs": [
    {
     "name": "stdout",
     "output_type": "stream",
     "text": [
      "780\n"
     ]
    }
   ],
   "source": [
    "spender_cnt = heroes_df['SN'].count()\n",
    "print(spender_cnt)\n"
   ]
  },
  {
   "cell_type": "code",
   "execution_count": 52,
   "metadata": {},
   "outputs": [
    {
     "name": "stdout",
     "output_type": "stream",
     "text": [
      "3.050987179487176\n"
     ]
    }
   ],
   "source": [
    "spender_avg = heroes_df['Price'].mean()\n",
    "print(spender_avg)"
   ]
  },
  {
   "cell_type": "code",
   "execution_count": 53,
   "metadata": {},
   "outputs": [
    {
     "name": "stdout",
     "output_type": "stream",
     "text": [
      "2379.77\n"
     ]
    }
   ],
   "source": [
    "spender_tot = heroes_df['Price'].sum()\n",
    "print(spender_tot)"
   ]
  },
  {
   "cell_type": "markdown",
   "metadata": {},
   "source": [
    "## Most Popular Items"
   ]
  },
  {
   "cell_type": "markdown",
   "metadata": {},
   "source": [
    "* Retrieve the Item ID, Item Name, and Item Price columns\n",
    "\n",
    "\n",
    "* Group by Item ID and Item Name. Perform calculations to obtain purchase count, average item price, and total purchase value\n",
    "\n",
    "\n",
    "* Create a summary data frame to hold the results\n",
    "\n",
    "\n",
    "* Sort the purchase count column in descending order\n",
    "\n",
    "\n",
    "* Optional: give the displayed data cleaner formatting\n",
    "\n",
    "\n",
    "* Display a preview of the summary data frame\n",
    "\n"
   ]
  },
  {
   "cell_type": "code",
   "execution_count": 54,
   "metadata": {},
   "outputs": [],
   "source": [
    "popular_df = heroes_df.groupby(['Item ID', 'Item Name'])"
   ]
  },
  {
   "cell_type": "code",
   "execution_count": 55,
   "metadata": {},
   "outputs": [
    {
     "name": "stdout",
     "output_type": "stream",
     "text": [
      "Item ID  Item Name                                   \n",
      "0        Splinter                                         4\n",
      "1        Crucifer                                         4\n",
      "2        Verdict                                          6\n",
      "3        Phantomlight                                     6\n",
      "4        Bloodlord's Fetish                               5\n",
      "                                                         ..\n",
      "178      Oathbreaker, Last Hope of the Breaking Storm    12\n",
      "179      Wolf, Promise of the Moonwalker                  6\n",
      "181      Reaper's Toll                                    5\n",
      "182      Toothpick                                        3\n",
      "183      Dragon's Greatsword                              3\n",
      "Name: Item ID, Length: 179, dtype: int64\n"
     ]
    }
   ],
   "source": [
    "popular_cnt = popular_df['Item ID'].count()\n",
    "print(popular_cnt)"
   ]
  },
  {
   "cell_type": "code",
   "execution_count": 56,
   "metadata": {},
   "outputs": [
    {
     "name": "stdout",
     "output_type": "stream",
     "text": [
      "Item ID  Item Name                                   \n",
      "0        Splinter                                         5.12\n",
      "1        Crucifer                                        11.77\n",
      "2        Verdict                                         14.88\n",
      "3        Phantomlight                                    14.94\n",
      "4        Bloodlord's Fetish                               8.50\n",
      "                                                         ...  \n",
      "178      Oathbreaker, Last Hope of the Breaking Storm    50.76\n",
      "179      Wolf, Promise of the Moonwalker                 26.88\n",
      "181      Reaper's Toll                                    8.30\n",
      "182      Toothpick                                       12.09\n",
      "183      Dragon's Greatsword                              3.27\n",
      "Name: Price, Length: 179, dtype: float64\n"
     ]
    }
   ],
   "source": [
    "popular_val = popular_df['Price'].sum()\n",
    "print(popular_val)"
   ]
  },
  {
   "cell_type": "code",
   "execution_count": 57,
   "metadata": {},
   "outputs": [],
   "source": [
    "item_price = popular_val / popular_cnt"
   ]
  },
  {
   "cell_type": "code",
   "execution_count": 58,
   "metadata": {},
   "outputs": [],
   "source": [
    "item_data_df = pd.DataFrame({\n",
    "    'Purchase Count': popular_cnt, \n",
    "    'Item Price': item_price, \n",
    "    'Total Purchase Value': popular_val})"
   ]
  },
  {
   "cell_type": "code",
   "execution_count": 59,
   "metadata": {},
   "outputs": [
    {
     "data": {
      "text/html": [
       "<style  type=\"text/css\" >\n",
       "</style><table id=\"T_57fca_\" ><thead>    <tr>        <th class=\"blank\" ></th>        <th class=\"blank level0\" ></th>        <th class=\"col_heading level0 col0\" >Purchase Count</th>        <th class=\"col_heading level0 col1\" >Item Price</th>        <th class=\"col_heading level0 col2\" >Total Purchase Value</th>    </tr>    <tr>        <th class=\"index_name level0\" >Item ID</th>        <th class=\"index_name level1\" >Item Name</th>        <th class=\"blank\" ></th>        <th class=\"blank\" ></th>        <th class=\"blank\" ></th>    </tr></thead><tbody>\n",
       "                <tr>\n",
       "                        <th id=\"T_57fca_level0_row0\" class=\"row_heading level0 row0\" >92</th>\n",
       "                        <th id=\"T_57fca_level1_row0\" class=\"row_heading level1 row0\" >Final Critic</th>\n",
       "                        <td id=\"T_57fca_row0_col0\" class=\"data row0 col0\" >13</td>\n",
       "                        <td id=\"T_57fca_row0_col1\" class=\"data row0 col1\" >$4.61</td>\n",
       "                        <td id=\"T_57fca_row0_col2\" class=\"data row0 col2\" >$59.99</td>\n",
       "            </tr>\n",
       "            <tr>\n",
       "                        <th id=\"T_57fca_level0_row1\" class=\"row_heading level0 row1\" >178</th>\n",
       "                        <th id=\"T_57fca_level1_row1\" class=\"row_heading level1 row1\" >Oathbreaker, Last Hope of the Breaking Storm</th>\n",
       "                        <td id=\"T_57fca_row1_col0\" class=\"data row1 col0\" >12</td>\n",
       "                        <td id=\"T_57fca_row1_col1\" class=\"data row1 col1\" >$4.23</td>\n",
       "                        <td id=\"T_57fca_row1_col2\" class=\"data row1 col2\" >$50.76</td>\n",
       "            </tr>\n",
       "            <tr>\n",
       "                        <th id=\"T_57fca_level0_row2\" class=\"row_heading level0 row2\" >145</th>\n",
       "                        <th id=\"T_57fca_level1_row2\" class=\"row_heading level1 row2\" >Fiery Glass Crusader</th>\n",
       "                        <td id=\"T_57fca_row2_col0\" class=\"data row2 col0\" >9</td>\n",
       "                        <td id=\"T_57fca_row2_col1\" class=\"data row2 col1\" >$4.58</td>\n",
       "                        <td id=\"T_57fca_row2_col2\" class=\"data row2 col2\" >$41.22</td>\n",
       "            </tr>\n",
       "            <tr>\n",
       "                        <th id=\"T_57fca_level0_row3\" class=\"row_heading level0 row3\" >132</th>\n",
       "                        <th id=\"T_57fca_level1_row3\" class=\"row_heading level1 row3\" >Persuasion</th>\n",
       "                        <td id=\"T_57fca_row3_col0\" class=\"data row3 col0\" >9</td>\n",
       "                        <td id=\"T_57fca_row3_col1\" class=\"data row3 col1\" >$3.22</td>\n",
       "                        <td id=\"T_57fca_row3_col2\" class=\"data row3 col2\" >$28.99</td>\n",
       "            </tr>\n",
       "            <tr>\n",
       "                        <th id=\"T_57fca_level0_row4\" class=\"row_heading level0 row4\" >108</th>\n",
       "                        <th id=\"T_57fca_level1_row4\" class=\"row_heading level1 row4\" >Extraction, Quickblade Of Trembling Hands</th>\n",
       "                        <td id=\"T_57fca_row4_col0\" class=\"data row4 col0\" >9</td>\n",
       "                        <td id=\"T_57fca_row4_col1\" class=\"data row4 col1\" >$3.53</td>\n",
       "                        <td id=\"T_57fca_row4_col2\" class=\"data row4 col2\" >$31.77</td>\n",
       "            </tr>\n",
       "    </tbody></table>"
      ],
      "text/plain": [
       "<pandas.io.formats.style.Styler at 0x187157f3ac0>"
      ]
     },
     "execution_count": 59,
     "metadata": {},
     "output_type": "execute_result"
    }
   ],
   "source": [
    "top_popular_df = item_data_df.sort_values(['Purchase Count'], ascending=False).nlargest(5, 'Purchase Count')\n",
    "top_popular_df.style.format({'Item Price': '${:,.2f}', 'Total Purchase Value': '${:,.2f}'})"
   ]
  },
  {
   "cell_type": "markdown",
   "metadata": {},
   "source": [
    "## Most Profitable Items"
   ]
  },
  {
   "cell_type": "markdown",
   "metadata": {},
   "source": [
    "* Sort the above table by total purchase value in descending order\n",
    "\n",
    "\n",
    "* Optional: give the displayed data cleaner formatting\n",
    "\n",
    "\n",
    "* Display a preview of the data frame\n",
    "\n"
   ]
  },
  {
   "cell_type": "code",
   "execution_count": 60,
   "metadata": {
    "scrolled": true
   },
   "outputs": [
    {
     "data": {
      "text/html": [
       "<style  type=\"text/css\" >\n",
       "</style><table id=\"T_b9910_\" ><thead>    <tr>        <th class=\"blank\" ></th>        <th class=\"blank level0\" ></th>        <th class=\"col_heading level0 col0\" >Purchase Count</th>        <th class=\"col_heading level0 col1\" >Item Price</th>        <th class=\"col_heading level0 col2\" >Total Purchase Value</th>    </tr>    <tr>        <th class=\"index_name level0\" >Item ID</th>        <th class=\"index_name level1\" >Item Name</th>        <th class=\"blank\" ></th>        <th class=\"blank\" ></th>        <th class=\"blank\" ></th>    </tr></thead><tbody>\n",
       "                <tr>\n",
       "                        <th id=\"T_b9910_level0_row0\" class=\"row_heading level0 row0\" >92</th>\n",
       "                        <th id=\"T_b9910_level1_row0\" class=\"row_heading level1 row0\" >Final Critic</th>\n",
       "                        <td id=\"T_b9910_row0_col0\" class=\"data row0 col0\" >13</td>\n",
       "                        <td id=\"T_b9910_row0_col1\" class=\"data row0 col1\" >$4.61</td>\n",
       "                        <td id=\"T_b9910_row0_col2\" class=\"data row0 col2\" >$59.99</td>\n",
       "            </tr>\n",
       "            <tr>\n",
       "                        <th id=\"T_b9910_level0_row1\" class=\"row_heading level0 row1\" >178</th>\n",
       "                        <th id=\"T_b9910_level1_row1\" class=\"row_heading level1 row1\" >Oathbreaker, Last Hope of the Breaking Storm</th>\n",
       "                        <td id=\"T_b9910_row1_col0\" class=\"data row1 col0\" >12</td>\n",
       "                        <td id=\"T_b9910_row1_col1\" class=\"data row1 col1\" >$4.23</td>\n",
       "                        <td id=\"T_b9910_row1_col2\" class=\"data row1 col2\" >$50.76</td>\n",
       "            </tr>\n",
       "            <tr>\n",
       "                        <th id=\"T_b9910_level0_row2\" class=\"row_heading level0 row2\" >82</th>\n",
       "                        <th id=\"T_b9910_level1_row2\" class=\"row_heading level1 row2\" >Nirvana</th>\n",
       "                        <td id=\"T_b9910_row2_col0\" class=\"data row2 col0\" >9</td>\n",
       "                        <td id=\"T_b9910_row2_col1\" class=\"data row2 col1\" >$4.90</td>\n",
       "                        <td id=\"T_b9910_row2_col2\" class=\"data row2 col2\" >$44.10</td>\n",
       "            </tr>\n",
       "            <tr>\n",
       "                        <th id=\"T_b9910_level0_row3\" class=\"row_heading level0 row3\" >145</th>\n",
       "                        <th id=\"T_b9910_level1_row3\" class=\"row_heading level1 row3\" >Fiery Glass Crusader</th>\n",
       "                        <td id=\"T_b9910_row3_col0\" class=\"data row3 col0\" >9</td>\n",
       "                        <td id=\"T_b9910_row3_col1\" class=\"data row3 col1\" >$4.58</td>\n",
       "                        <td id=\"T_b9910_row3_col2\" class=\"data row3 col2\" >$41.22</td>\n",
       "            </tr>\n",
       "            <tr>\n",
       "                        <th id=\"T_b9910_level0_row4\" class=\"row_heading level0 row4\" >103</th>\n",
       "                        <th id=\"T_b9910_level1_row4\" class=\"row_heading level1 row4\" >Singed Scalpel</th>\n",
       "                        <td id=\"T_b9910_row4_col0\" class=\"data row4 col0\" >8</td>\n",
       "                        <td id=\"T_b9910_row4_col1\" class=\"data row4 col1\" >$4.35</td>\n",
       "                        <td id=\"T_b9910_row4_col2\" class=\"data row4 col2\" >$34.80</td>\n",
       "            </tr>\n",
       "    </tbody></table>"
      ],
      "text/plain": [
       "<pandas.io.formats.style.Styler at 0x187157fa670>"
      ]
     },
     "execution_count": 60,
     "metadata": {},
     "output_type": "execute_result"
    }
   ],
   "source": [
    "top_profitable_df = item_data_df.sort_values(['Total Purchase Value'], ascending=False).nlargest(5, 'Total Purchase Value')\n",
    "\n",
    "top_profitable_df.style.format({'Item Price': '${:,.2f}', 'Total Purchase Value': '${:,.2f}'})"
   ]
  }
 ],
 "metadata": {
  "anaconda-cloud": {},
  "kernel_info": {
   "name": "python3"
  },
  "kernelspec": {
   "display_name": "Python 3 (ipykernel)",
   "language": "python",
   "name": "python3"
  },
  "language_info": {
   "codemirror_mode": {
    "name": "ipython",
    "version": 3
   },
   "file_extension": ".py",
   "mimetype": "text/x-python",
   "name": "python",
   "nbconvert_exporter": "python",
   "pygments_lexer": "ipython3",
   "version": "3.8.8"
  },
  "latex_envs": {
   "LaTeX_envs_menu_present": true,
   "autoclose": false,
   "autocomplete": true,
   "bibliofile": "biblio.bib",
   "cite_by": "apalike",
   "current_citInitial": 1,
   "eqLabelWithNumbers": true,
   "eqNumInitial": 1,
   "hotkeys": {
    "equation": "Ctrl-E",
    "itemize": "Ctrl-I"
   },
   "labels_anchors": false,
   "latex_user_defs": false,
   "report_style_numbering": false,
   "user_envs_cfg": false
  },
  "nteract": {
   "version": "0.2.0"
  }
 },
 "nbformat": 4,
 "nbformat_minor": 4
}
